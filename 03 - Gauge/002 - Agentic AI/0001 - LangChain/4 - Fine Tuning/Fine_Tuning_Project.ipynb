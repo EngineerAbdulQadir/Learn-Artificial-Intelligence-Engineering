{
  "cells": [
    {
      "cell_type": "markdown",
      "metadata": {
        "id": "sOz_wyZAlCuQ"
      },
      "source": [
        "# Project 4: Fine Tuning\n",
        "**Created By:**<br>\n",
        "**Name:** Abdul Qadir <br>\n",
        "**Roll No**: PIAIC245816 <br> <br>\n",
        "![Profile_01.jpeg](data:image/jpeg;base64,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)"
      ]
    },
    {
      "cell_type": "markdown",
      "metadata": {
        "id": "aHimx8NGMWDj"
      },
      "source": [
        "### Install the client library"
      ]
    },
    {
      "cell_type": "code",
      "execution_count": 1,
      "metadata": {
        "id": "cbcf72bcb56d"
      },
      "outputs": [],
      "source": [
        "!pip install -q google-generativeai"
      ]
    },
    {
      "cell_type": "markdown",
      "metadata": {
        "id": "jdIYSl2kN0cq"
      },
      "source": [
        "### Import libraries"
      ]
    },
    {
      "cell_type": "code",
      "execution_count": 2,
      "metadata": {
        "id": "8enrppafJPCX"
      },
      "outputs": [],
      "source": [
        "import google.generativeai as genai"
      ]
    },
    {
      "cell_type": "code",
      "execution_count": 3,
      "metadata": {
        "id": "lhqVUjH7ZKUi"
      },
      "outputs": [],
      "source": [
        "from google.colab import userdata\n",
        "genai.configure(api_key=userdata.get('GOOGLE_API_KEY'))"
      ]
    },
    {
      "cell_type": "markdown",
      "metadata": {
        "id": "P-MYZECwlRCq"
      },
      "source": [
        "You can check you existing tuned models with the `genai.list_tuned_model` method."
      ]
    },
    {
      "cell_type": "code",
      "execution_count": 14,
      "metadata": {
        "id": "XyWzoYFxU4r6",
        "outputId": "a9f13852-3f83-4238-aa69-48c4f664fd36",
        "colab": {
          "base_uri": "https://localhost:8080/",
          "height": 35
        }
      },
      "outputs": [
        {
          "output_type": "stream",
          "name": "stdout",
          "text": [
            "tunedModels/generate-num-7117\n"
          ]
        }
      ],
      "source": [
        "for i, m in zip(range(5), genai.list_tuned_models()):\n",
        "  print(m.name)"
      ]
    },
    {
      "cell_type": "markdown",
      "metadata": {
        "id": "BhkXRzciv3Dp"
      },
      "source": [
        "## Create tuned model"
      ]
    },
    {
      "cell_type": "markdown",
      "metadata": {
        "id": "OO8VZYAinLWc"
      },
      "source": [
        "To create a tuned model, you need to pass your dataset to the model in the `genai.create_tuned_model` method. You can do this be directly defining the input and output values in the call or importing from a file into a dataframe to pass to the method.\n",
        "\n",
        "For this example, you will tune a model to generate the next number in the sequence. For example, if the input is `1`, the model should output `2`. If the input is `one hundred`, the output should be `one hundred one`."
      ]
    },
    {
      "cell_type": "code",
      "execution_count": 5,
      "metadata": {
        "id": "w-EBSe9wTbLB",
        "outputId": "ddcce8d4-d25d-4363-e243-8f5695bcd28f",
        "colab": {
          "base_uri": "https://localhost:8080/",
          "height": 257
        }
      },
      "outputs": [
        {
          "output_type": "execute_result",
          "data": {
            "text/plain": [
              "Model(name='models/gemini-1.5-flash-001-tuning',\n",
              "      base_model_id='',\n",
              "      version='001',\n",
              "      display_name='Gemini 1.5 Flash 001 Tuning',\n",
              "      description=('Version of Gemini 1.5 Flash that supports tuning, our fast and versatile '\n",
              "                   'multimodal model for scaling across diverse tasks, released in May of 2024.'),\n",
              "      input_token_limit=16384,\n",
              "      output_token_limit=8192,\n",
              "      supported_generation_methods=['generateContent', 'countTokens', 'createTunedModel'],\n",
              "      temperature=1.0,\n",
              "      max_temperature=2.0,\n",
              "      top_p=0.95,\n",
              "      top_k=64)"
            ]
          },
          "metadata": {},
          "execution_count": 5
        }
      ],
      "source": [
        "base_model = [\n",
        "    m for m in genai.list_models()\n",
        "    if \"createTunedModel\" in m.supported_generation_methods and\n",
        "    \"flash\" in m.name][0]\n",
        "base_model"
      ]
    },
    {
      "cell_type": "code",
      "execution_count": 7,
      "metadata": {
        "id": "baHjHh1oTTTC"
      },
      "outputs": [],
      "source": [
        "import random\n",
        "\n",
        "name = f'generate-num-{random.randint(0,10000)}'\n",
        "operation = genai.create_tuned_model(\n",
        "    # You can use a tuned model here too. Set `source_model=\"tunedModels/...\"`\n",
        "    source_model=base_model.name,\n",
        "    training_data=[\n",
        "        {\n",
        "             'text_input': '1',\n",
        "             'output': '2',\n",
        "        },{\n",
        "             'text_input': '3',\n",
        "             'output': '4',\n",
        "        },{\n",
        "             'text_input': '-3',\n",
        "             'output': '-2',\n",
        "        },{\n",
        "             'text_input': 'twenty two',\n",
        "             'output': 'twenty three',\n",
        "        },{\n",
        "             'text_input': 'two hundred',\n",
        "             'output': 'two hundred one',\n",
        "        },{\n",
        "             'text_input': 'ninety nine',\n",
        "             'output': 'one hundred',\n",
        "        },{\n",
        "             'text_input': '8',\n",
        "             'output': '9',\n",
        "        },{\n",
        "             'text_input': '-98',\n",
        "             'output': '-97',\n",
        "        },{\n",
        "             'text_input': '1,000',\n",
        "             'output': '1,001',\n",
        "        },{\n",
        "             'text_input': '10,100,000',\n",
        "             'output': '10,100,001',\n",
        "        },{\n",
        "             'text_input': 'thirteen',\n",
        "             'output': 'fourteen',\n",
        "        },{\n",
        "             'text_input': 'eighty',\n",
        "             'output': 'eighty one',\n",
        "        },{\n",
        "             'text_input': 'one',\n",
        "             'output': 'two',\n",
        "        },{\n",
        "             'text_input': 'three',\n",
        "             'output': 'four',\n",
        "        },{\n",
        "             'text_input': 'seven',\n",
        "             'output': 'eight',\n",
        "        }\n",
        "    ],\n",
        "    id = name,\n",
        "    epoch_count = 100,\n",
        "    batch_size=4,\n",
        "    learning_rate=0.001,\n",
        ")"
      ]
    },
    {
      "cell_type": "markdown",
      "metadata": {
        "id": "-As7ayWDK1w8"
      },
      "source": [
        "Your tuned model is immediately added to the list of tuned models, but its status is set to \"creating\" while the model is tuned."
      ]
    },
    {
      "cell_type": "code",
      "execution_count": 8,
      "metadata": {
        "id": "su64KgY4Uztj",
        "outputId": "1602b77b-ce6b-42b9-fc70-0a6d6f8bb96d",
        "colab": {
          "base_uri": "https://localhost:8080/",
          "height": 349
        }
      },
      "outputs": [
        {
          "output_type": "execute_result",
          "data": {
            "text/plain": [
              "TunedModel(name='tunedModels/generate-num-7117',\n",
              "           source_model='models/gemini-1.5-flash-001-tuning',\n",
              "           base_model='models/gemini-1.5-flash-001-tuning',\n",
              "           display_name='',\n",
              "           description='',\n",
              "           temperature=1.0,\n",
              "           top_p=0.95,\n",
              "           top_k=64,\n",
              "           state=<State.CREATING: 1>,\n",
              "           create_time=datetime.datetime(2025, 1, 19, 5, 41, 46, 363121, tzinfo=datetime.timezone.utc),\n",
              "           update_time=datetime.datetime(2025, 1, 19, 5, 41, 46, 363121, tzinfo=datetime.timezone.utc),\n",
              "           tuning_task=TuningTask(start_time=datetime.datetime(2025, 1, 19, 5, 41, 48, 683426, tzinfo=datetime.timezone.utc),\n",
              "                                  complete_time=None,\n",
              "                                  snapshots=[],\n",
              "                                  hyperparameters=Hyperparameters(epoch_count=100,\n",
              "                                                                  batch_size=4,\n",
              "                                                                  learning_rate=0.001)),\n",
              "           reader_project_numbers=None)"
            ]
          },
          "metadata": {},
          "execution_count": 8
        }
      ],
      "source": [
        "model = genai.get_tuned_model(f'tunedModels/{name}')\n",
        "\n",
        "model"
      ]
    },
    {
      "cell_type": "code",
      "execution_count": 10,
      "metadata": {
        "id": "EUodUwZkKPi-",
        "outputId": "d19a9862-7eba-4eff-dea2-bc9b99c3b9a9",
        "colab": {
          "base_uri": "https://localhost:8080/"
        }
      },
      "outputs": [
        {
          "output_type": "execute_result",
          "data": {
            "text/plain": [
              "<State.CREATING: 1>"
            ]
          },
          "metadata": {},
          "execution_count": 10
        }
      ],
      "source": [
        "model.state"
      ]
    },
    {
      "cell_type": "markdown",
      "metadata": {
        "id": "Pi8X5vkQv-3_"
      },
      "source": [
        "### Check tuning progress"
      ]
    },
    {
      "cell_type": "markdown",
      "metadata": {
        "id": "tWI-vAh4LJIz"
      },
      "source": [
        "Use `metadata` to check the state:"
      ]
    },
    {
      "cell_type": "code",
      "execution_count": 11,
      "metadata": {
        "id": "g08vqtxYLMxT",
        "outputId": "e47229d0-20eb-4ae0-a93c-8f69f962706f",
        "colab": {
          "base_uri": "https://localhost:8080/"
        }
      },
      "outputs": [
        {
          "output_type": "execute_result",
          "data": {
            "text/plain": [
              "tuned_model: \"tunedModels/generate-num-7117\"\n",
              "total_steps: 375"
            ]
          },
          "metadata": {},
          "execution_count": 11
        }
      ],
      "source": [
        "operation.metadata"
      ]
    },
    {
      "cell_type": "markdown",
      "metadata": {
        "id": "3lQ6gSMgK-kz"
      },
      "source": [
        "Wait for the training to finish using `operation.result()`, or `operation.wait_bar()`"
      ]
    },
    {
      "cell_type": "code",
      "execution_count": 12,
      "metadata": {
        "id": "SOUowIv1HgSE",
        "outputId": "c10e12d8-652b-4440-a4f6-60f86c19c7dd",
        "colab": {
          "base_uri": "https://localhost:8080/",
          "height": 49,
          "referenced_widgets": [
            "75f5049f0fa84c7c83595bbe3e6b52ff",
            "70f0d177ff8a4fadaf8fee6e03225df0",
            "0063231dc771482c89e0599023c1942c",
            "5514e1f5f9144ad2af4e0f97dc4cbf5e",
            "79ef9365aff74297b13d9a1a55ba4f4f",
            "57ea7b9e358c42a2b2e6e744d97222ac",
            "fd4900c22aba42e9ba77e59d95463ff7",
            "9b3d73da72104cccb84f7c9d179555c4",
            "3b40502e9b1844429ba18e865c7b1942",
            "88cc5292b2a046bdbb196dee76a9ffc1",
            "8eda9d6ed0af43ac991cd9773b688071"
          ]
        }
      },
      "outputs": [
        {
          "output_type": "display_data",
          "data": {
            "text/plain": [
              "  0%|          | 0/375 [00:00<?, ?it/s]"
            ],
            "application/vnd.jupyter.widget-view+json": {
              "version_major": 2,
              "version_minor": 0,
              "model_id": "75f5049f0fa84c7c83595bbe3e6b52ff"
            }
          },
          "metadata": {}
        }
      ],
      "source": [
        "import time\n",
        "\n",
        "for status in operation.wait_bar():\n",
        "  time.sleep(30)"
      ]
    },
    {
      "cell_type": "markdown",
      "metadata": {
        "id": "4cg868HzqOx5"
      },
      "source": [
        "You can cancel your tuning job any time using the `cancel()` method. Uncomment the line below and run the code cell to cancel your job before it finishes."
      ]
    },
    {
      "cell_type": "code",
      "execution_count": null,
      "metadata": {
        "id": "oQuJ70_hqJi9"
      },
      "outputs": [],
      "source": [
        "# operation.cancel()"
      ]
    },
    {
      "cell_type": "markdown",
      "metadata": {
        "id": "lqiL0TWDqAPn"
      },
      "source": [
        "Once the tuning is complete, you can view the loss curve from the tuning results. The [loss curve](https://ai.google.dev/gemini-api/docs/model-tuning#recommended_configurations) shows how much the model's predictions deviate from the ideal outputs."
      ]
    },
    {
      "cell_type": "code",
      "execution_count": 15,
      "metadata": {
        "id": "bIiG57xWLhP7",
        "outputId": "4b27a3cb-5fc8-4c28-a2f2-4b5f92c89c5f",
        "colab": {
          "base_uri": "https://localhost:8080/",
          "height": 467
        }
      },
      "outputs": [
        {
          "output_type": "execute_result",
          "data": {
            "text/plain": [
              "<Axes: xlabel='epoch', ylabel='mean_loss'>"
            ]
          },
          "metadata": {},
          "execution_count": 15
        },
        {
          "output_type": "display_data",
          "data": {
            "text/plain": [
              "<Figure size 640x480 with 1 Axes>"
            ],
            "image/png": "[encoded data removed]"
          },
          "metadata": {}
        }
      ],
      "source": [
        "import pandas as pd\n",
        "import seaborn as sns\n",
        "\n",
        "model = operation.result()\n",
        "\n",
        "snapshots = pd.DataFrame(model.tuning_task.snapshots)\n",
        "\n",
        "sns.lineplot(data=snapshots, x = 'epoch', y='mean_loss')\n"
      ]
    },
    {
      "cell_type": "markdown",
      "metadata": {
        "id": "rkoQTXb1vSBC"
      },
      "source": [
        "## Evaluate your model\n",
        "\n",
        "You can use the `genai.generate_content` method and specify the name of your model to test your model performance."
      ]
    },
    {
      "cell_type": "code",
      "execution_count": 16,
      "metadata": {
        "id": "zO0YcuSyxydZ"
      },
      "outputs": [],
      "source": [
        "model = genai.GenerativeModel(model_name=f'tunedModels/{name}')"
      ]
    },
    {
      "cell_type": "code",
      "execution_count": 17,
      "metadata": {
        "id": "UwGrrj6hS_x2",
        "outputId": "e3eff217-f7a1-4989-ceac-e1704818ee6d",
        "colab": {
          "base_uri": "https://localhost:8080/",
          "height": 36
        }
      },
      "outputs": [
        {
          "output_type": "execute_result",
          "data": {
            "text/plain": [
              "'56'"
            ],
            "application/vnd.google.colaboratory.intrinsic+json": {
              "type": "string"
            }
          },
          "metadata": {},
          "execution_count": 17
        }
      ],
      "source": [
        "result = model.generate_content('55')\n",
        "result.text"
      ]
    },
    {
      "cell_type": "code",
      "execution_count": 18,
      "metadata": {
        "id": "YSNB2zjTx5SZ",
        "outputId": "7a0fbcff-4ee0-492f-a704-6a6eca2bc3c0",
        "colab": {
          "base_uri": "https://localhost:8080/",
          "height": 36
        }
      },
      "outputs": [
        {
          "output_type": "execute_result",
          "data": {
            "text/plain": [
              "'123456'"
            ],
            "application/vnd.google.colaboratory.intrinsic+json": {
              "type": "string"
            }
          },
          "metadata": {},
          "execution_count": 18
        }
      ],
      "source": [
        "result = model.generate_content('123455')\n",
        "result.text"
      ]
    },
    {
      "cell_type": "code",
      "execution_count": 19,
      "metadata": {
        "id": "Y2YVO-m0Ut9H",
        "outputId": "01c62554-2ee5-4877-dbbd-41a834955239",
        "colab": {
          "base_uri": "https://localhost:8080/",
          "height": 36
        }
      },
      "outputs": [
        {
          "output_type": "execute_result",
          "data": {
            "text/plain": [
              "'five'"
            ],
            "application/vnd.google.colaboratory.intrinsic+json": {
              "type": "string"
            }
          },
          "metadata": {},
          "execution_count": 19
        }
      ],
      "source": [
        "result = model.generate_content('four')\n",
        "result.text"
      ]
    },
    {
      "cell_type": "code",
      "execution_count": 20,
      "metadata": {
        "id": "h2MkTR0uTb6U",
        "outputId": "639ae414-b49a-49e0-854b-a0c50eccbe96",
        "colab": {
          "base_uri": "https://localhost:8080/",
          "height": 36
        }
      },
      "outputs": [
        {
          "output_type": "execute_result",
          "data": {
            "text/plain": [
              "'cinq'"
            ],
            "application/vnd.google.colaboratory.intrinsic+json": {
              "type": "string"
            }
          },
          "metadata": {},
          "execution_count": 20
        }
      ],
      "source": [
        "result = model.generate_content('quatre') # French 4\n",
        "result.text                               # French 5 is \"cinq\""
      ]
    },
    {
      "cell_type": "code",
      "execution_count": 21,
      "metadata": {
        "id": "OruCW1zETsZw",
        "outputId": "468d3a48-e27d-49cc-b121-b45446928e31",
        "colab": {
          "base_uri": "https://localhost:8080/",
          "height": 36
        }
      },
      "outputs": [
        {
          "output_type": "execute_result",
          "data": {
            "text/plain": [
              "'IV'"
            ],
            "application/vnd.google.colaboratory.intrinsic+json": {
              "type": "string"
            }
          },
          "metadata": {},
          "execution_count": 21
        }
      ],
      "source": [
        "result = model.generate_content('III')    # Roman numeral 3\n",
        "result.text                               # Roman numeral 4 is IV"
      ]
    },
    {
      "cell_type": "code",
      "execution_count": 22,
      "metadata": {
        "id": "thDdSuUDUJOx",
        "outputId": "dfbcbbaf-15ba-45b1-c2c9-778d9542370e",
        "colab": {
          "base_uri": "https://localhost:8080/",
          "height": 36
        }
      },
      "outputs": [
        {
          "output_type": "execute_result",
          "data": {
            "text/plain": [
              "'八'"
            ],
            "application/vnd.google.colaboratory.intrinsic+json": {
              "type": "string"
            }
          },
          "metadata": {},
          "execution_count": 22
        }
      ],
      "source": [
        "result = model.generate_content('七')  # Japanese 7\n",
        "result.text                            # Japanese 8 is 八!"
      ]
    },
    {
      "cell_type": "markdown",
      "metadata": {
        "id": "HpIA1IFevQQR"
      },
      "source": [
        "It really seems to have picked up the task despite the limited examples, but \"next\" is a simple concept, see the [tuning guide](https://ai.google.dev/gemini-api/docs/model-tuning) for more guidance on improving performance."
      ]
    },
    {
      "cell_type": "markdown",
      "metadata": {
        "id": "nmuQCbTYwIOx"
      },
      "source": [
        "## Update the description\n",
        "\n",
        "You can update the description of your tuned model any time using the `genai.update_tuned_model` method."
      ]
    },
    {
      "cell_type": "code",
      "execution_count": 23,
      "metadata": {
        "id": "9gAVuXT_wG3x"
      },
      "outputs": [],
      "source": [
        "genai.update_tuned_model(f'tunedModels/{name}', {\"description\":\"This is my model.\"});"
      ]
    },
    {
      "cell_type": "code",
      "execution_count": 24,
      "metadata": {
        "id": "d-c3YerBxVYs",
        "outputId": "9b39df24-4e57-442d-a3ec-4f154d576c1c",
        "colab": {
          "base_uri": "https://localhost:8080/",
          "height": 36
        }
      },
      "outputs": [
        {
          "output_type": "execute_result",
          "data": {
            "text/plain": [
              "'This is my model.'"
            ],
            "application/vnd.google.colaboratory.intrinsic+json": {
              "type": "string"
            }
          },
          "metadata": {},
          "execution_count": 24
        }
      ],
      "source": [
        "model = genai.get_tuned_model(f'tunedModels/{name}')\n",
        "\n",
        "model.description"
      ]
    },
    {
      "cell_type": "markdown",
      "metadata": {
        "id": "i_TpwvBB4bQ7"
      },
      "source": [
        "## Delete the model\n",
        "\n",
        "You can clean up your tuned model list by deleting models you no longer need. Use the `genai.delete_tuned_model` method to delete a model. If you canceled any tuning jobs, you may want to delete those as their performance may be unpredictable."
      ]
    },
    {
      "cell_type": "code",
      "execution_count": null,
      "metadata": {
        "id": "cepfaUCvVGCo"
      },
      "outputs": [],
      "source": [
        "genai.delete_tuned_model(f'tunedModels/{name}')"
      ]
    },
    {
      "cell_type": "markdown",
      "metadata": {
        "id": "ljEssIshYDEr"
      },
      "source": [
        "The model no longer exists:"
      ]
    },
    {
      "cell_type": "code",
      "execution_count": 25,
      "metadata": {
        "id": "kN_bkut_4ayL",
        "outputId": "931bb8e7-19b8-4b30-f5cd-83b692c4ccdc",
        "colab": {
          "base_uri": "https://localhost:8080/",
          "height": 349
        }
      },
      "outputs": [
        {
          "output_type": "stream",
          "name": "stdout",
          "text": [
            "TunedModel(name='tunedModels/generate-num-7117',\n",
            "           source_model='models/gemini-1.5-flash-001-tuning',\n",
            "           base_model='models/gemini-1.5-flash-001-tuning',\n",
            "           display_name='',\n",
            "           description='This is my model.',\n",
            "           temperature=1.0,\n",
            "           top_p=0.95,\n",
            "           top_k=64,\n",
            "           state=<State.ACTIVE: 2>,\n",
            "           create_time=datetime.datetime(2025, 1, 19, 5, 41, 46, 363121, tzinfo=datetime.timezone.utc),\n",
            "           update_time=datetime.datetime(2025, 1, 19, 5, 58, 25, 422389, tzinfo=datetime.timezone.utc),\n",
            "           tuning_task=TuningTask(start_time=datetime.datetime(2025, 1, 19, 5, 41, 48, 683426, tzinfo=datetime.timezone.utc),\n",
            "                                  complete_time=datetime.datetime(2025, 1, 19, 5, 58, 25, 422389, tzinfo=datetime.timezone.utc),\n",
            "                                  snapshots=[...],\n",
            "                                  hyperparameters=Hyperparameters(epoch_count=100,\n",
            "                                                                  batch_size=4,\n",
            "                                                                  learning_rate=0.001)),\n",
            "           reader_project_numbers=None)\n"
          ]
        }
      ],
      "source": [
        "try:\n",
        "  m = genai.get_tuned_model(f'tunedModels/{name}')\n",
        "  print(m)\n",
        "except Exception as e:\n",
        "  print(f\"{type(e)}: {e}\")"
      ]
    },
    {
      "cell_type": "markdown",
      "source": [
        "### The End..."
      ],
      "metadata": {
        "id": "VxPJRIYdEJTM"
      }
    }
  ],
  "metadata": {
    "colab": {
      "name": "python.ipynb",
      "provenance": []
    },
    "kernelspec": {
      "display_name": "Python 3",
      "name": "python3"
    },
    "widgets": {
      "application/vnd.jupyter.widget-state+json": {
        "75f5049f0fa84c7c83595bbe3e6b52ff": {
          "model_module": "@jupyter-widgets/controls",
          "model_name": "HBoxModel",
          "model_module_version": "1.5.0",
          "state": {
            "_dom_classes": [],
            "_model_module": "@jupyter-widgets/controls",
            "_model_module_version": "1.5.0",
            "_model_name": "HBoxModel",
            "_view_count": null,
            "_view_module": "@jupyter-widgets/controls",
            "_view_module_version": "1.5.0",
            "_view_name": "HBoxView",
            "box_style": "",
            "children": [
              "IPY_MODEL_70f0d177ff8a4fadaf8fee6e03225df0",
              "IPY_MODEL_0063231dc771482c89e0599023c1942c",
              "IPY_MODEL_5514e1f5f9144ad2af4e0f97dc4cbf5e"
            ],
            "layout": "IPY_MODEL_79ef9365aff74297b13d9a1a55ba4f4f"
          }
        },
        "70f0d177ff8a4fadaf8fee6e03225df0": {
          "model_module": "@jupyter-widgets/controls",
          "model_name": "HTMLModel",
          "model_module_version": "1.5.0",
          "state": {
            "_dom_classes": [],
            "_model_module": "@jupyter-widgets/controls",
            "_model_module_version": "1.5.0",
            "_model_name": "HTMLModel",
            "_view_count": null,
            "_view_module": "@jupyter-widgets/controls",
            "_view_module_version": "1.5.0",
            "_view_name": "HTMLView",
            "description": "",
            "description_tooltip": null,
            "layout": "IPY_MODEL_57ea7b9e358c42a2b2e6e744d97222ac",
            "placeholder": "​",
            "style": "IPY_MODEL_fd4900c22aba42e9ba77e59d95463ff7",
            "value": "100%"
          }
        },
        "0063231dc771482c89e0599023c1942c": {
          "model_module": "@jupyter-widgets/controls",
          "model_name": "FloatProgressModel",
          "model_module_version": "1.5.0",
          "state": {
            "_dom_classes": [],
            "_model_module": "@jupyter-widgets/controls",
            "_model_module_version": "1.5.0",
            "_model_name": "FloatProgressModel",
            "_view_count": null,
            "_view_module": "@jupyter-widgets/controls",
            "_view_module_version": "1.5.0",
            "_view_name": "ProgressView",
            "bar_style": "success",
            "description": "",
            "description_tooltip": null,
            "layout": "IPY_MODEL_9b3d73da72104cccb84f7c9d179555c4",
            "max": 375,
            "min": 0,
            "orientation": "horizontal",
            "style": "IPY_MODEL_3b40502e9b1844429ba18e865c7b1942",
            "value": 375
          }
        },
        "5514e1f5f9144ad2af4e0f97dc4cbf5e": {
          "model_module": "@jupyter-widgets/controls",
          "model_name": "HTMLModel",
          "model_module_version": "1.5.0",
          "state": {
            "_dom_classes": [],
            "_model_module": "@jupyter-widgets/controls",
            "_model_module_version": "1.5.0",
            "_model_name": "HTMLModel",
            "_view_count": null,
            "_view_module": "@jupyter-widgets/controls",
            "_view_module_version": "1.5.0",
            "_view_name": "HTMLView",
            "description": "",
            "description_tooltip": null,
            "layout": "IPY_MODEL_88cc5292b2a046bdbb196dee76a9ffc1",
            "placeholder": "​",
            "style": "IPY_MODEL_8eda9d6ed0af43ac991cd9773b688071",
            "value": " 375/375 [15:00&lt;00:00,  2.72s/it]"
          }
        },
        "79ef9365aff74297b13d9a1a55ba4f4f": {
          "model_module": "@jupyter-widgets/base",
          "model_name": "LayoutModel",
          "model_module_version": "1.2.0",
          "state": {
            "_model_module": "@jupyter-widgets/base",
            "_model_module_version": "1.2.0",
            "_model_name": "LayoutModel",
            "_view_count": null,
            "_view_module": "@jupyter-widgets/base",
            "_view_module_version": "1.2.0",
            "_view_name": "LayoutView",
            "align_content": null,
            "align_items": null,
            "align_self": null,
            "border": null,
            "bottom": null,
            "display": null,
            "flex": null,
            "flex_flow": null,
            "grid_area": null,
            "grid_auto_columns": null,
            "grid_auto_flow": null,
            "grid_auto_rows": null,
            "grid_column": null,
            "grid_gap": null,
            "grid_row": null,
            "grid_template_areas": null,
            "grid_template_columns": null,
            "grid_template_rows": null,
            "height": null,
            "justify_content": null,
            "justify_items": null,
            "left": null,
            "margin": null,
            "max_height": null,
            "max_width": null,
            "min_height": null,
            "min_width": null,
            "object_fit": null,
            "object_position": null,
            "order": null,
            "overflow": null,
            "overflow_x": null,
            "overflow_y": null,
            "padding": null,
            "right": null,
            "top": null,
            "visibility": null,
            "width": null
          }
        },
        "57ea7b9e358c42a2b2e6e744d97222ac": {
          "model_module": "@jupyter-widgets/base",
          "model_name": "LayoutModel",
          "model_module_version": "1.2.0",
          "state": {
            "_model_module": "@jupyter-widgets/base",
            "_model_module_version": "1.2.0",
            "_model_name": "LayoutModel",
            "_view_count": null,
            "_view_module": "@jupyter-widgets/base",
            "_view_module_version": "1.2.0",
            "_view_name": "LayoutView",
            "align_content": null,
            "align_items": null,
            "align_self": null,
            "border": null,
            "bottom": null,
            "display": null,
            "flex": null,
            "flex_flow": null,
            "grid_area": null,
            "grid_auto_columns": null,
            "grid_auto_flow": null,
            "grid_auto_rows": null,
            "grid_column": null,
            "grid_gap": null,
            "grid_row": null,
            "grid_template_areas": null,
            "grid_template_columns": null,
            "grid_template_rows": null,
            "height": null,
            "justify_content": null,
            "justify_items": null,
            "left": null,
            "margin": null,
            "max_height": null,
            "max_width": null,
            "min_height": null,
            "min_width": null,
            "object_fit": null,
            "object_position": null,
            "order": null,
            "overflow": null,
            "overflow_x": null,
            "overflow_y": null,
            "padding": null,
            "right": null,
            "top": null,
            "visibility": null,
            "width": null
          }
        },
        "fd4900c22aba42e9ba77e59d95463ff7": {
          "model_module": "@jupyter-widgets/controls",
          "model_name": "DescriptionStyleModel",
          "model_module_version": "1.5.0",
          "state": {
            "_model_module": "@jupyter-widgets/controls",
            "_model_module_version": "1.5.0",
            "_model_name": "DescriptionStyleModel",
            "_view_count": null,
            "_view_module": "@jupyter-widgets/base",
            "_view_module_version": "1.2.0",
            "_view_name": "StyleView",
            "description_width": ""
          }
        },
        "9b3d73da72104cccb84f7c9d179555c4": {
          "model_module": "@jupyter-widgets/base",
          "model_name": "LayoutModel",
          "model_module_version": "1.2.0",
          "state": {
            "_model_module": "@jupyter-widgets/base",
            "_model_module_version": "1.2.0",
            "_model_name": "LayoutModel",
            "_view_count": null,
            "_view_module": "@jupyter-widgets/base",
            "_view_module_version": "1.2.0",
            "_view_name": "LayoutView",
            "align_content": null,
            "align_items": null,
            "align_self": null,
            "border": null,
            "bottom": null,
            "display": null,
            "flex": null,
            "flex_flow": null,
            "grid_area": null,
            "grid_auto_columns": null,
            "grid_auto_flow": null,
            "grid_auto_rows": null,
            "grid_column": null,
            "grid_gap": null,
            "grid_row": null,
            "grid_template_areas": null,
            "grid_template_columns": null,
            "grid_template_rows": null,
            "height": null,
            "justify_content": null,
            "justify_items": null,
            "left": null,
            "margin": null,
            "max_height": null,
            "max_width": null,
            "min_height": null,
            "min_width": null,
            "object_fit": null,
            "object_position": null,
            "order": null,
            "overflow": null,
            "overflow_x": null,
            "overflow_y": null,
            "padding": null,
            "right": null,
            "top": null,
            "visibility": null,
            "width": null
          }
        },
        "3b40502e9b1844429ba18e865c7b1942": {
          "model_module": "@jupyter-widgets/controls",
          "model_name": "ProgressStyleModel",
          "model_module_version": "1.5.0",
          "state": {
            "_model_module": "@jupyter-widgets/controls",
            "_model_module_version": "1.5.0",
            "_model_name": "ProgressStyleModel",
            "_view_count": null,
            "_view_module": "@jupyter-widgets/base",
            "_view_module_version": "1.2.0",
            "_view_name": "StyleView",
            "bar_color": null,
            "description_width": ""
          }
        },
        "88cc5292b2a046bdbb196dee76a9ffc1": {
          "model_module": "@jupyter-widgets/base",
          "model_name": "LayoutModel",
          "model_module_version": "1.2.0",
          "state": {
            "_model_module": "@jupyter-widgets/base",
            "_model_module_version": "1.2.0",
            "_model_name": "LayoutModel",
            "_view_count": null,
            "_view_module": "@jupyter-widgets/base",
            "_view_module_version": "1.2.0",
            "_view_name": "LayoutView",
            "align_content": null,
            "align_items": null,
            "align_self": null,
            "border": null,
            "bottom": null,
            "display": null,
            "flex": null,
            "flex_flow": null,
            "grid_area": null,
            "grid_auto_columns": null,
            "grid_auto_flow": null,
            "grid_auto_rows": null,
            "grid_column": null,
            "grid_gap": null,
            "grid_row": null,
            "grid_template_areas": null,
            "grid_template_columns": null,
            "grid_template_rows": null,
            "height": null,
            "justify_content": null,
            "justify_items": null,
            "left": null,
            "margin": null,
            "max_height": null,
            "max_width": null,
            "min_height": null,
            "min_width": null,
            "object_fit": null,
            "object_position": null,
            "order": null,
            "overflow": null,
            "overflow_x": null,
            "overflow_y": null,
            "padding": null,
            "right": null,
            "top": null,
            "visibility": null,
            "width": null
          }
        },
        "8eda9d6ed0af43ac991cd9773b688071": {
          "model_module": "@jupyter-widgets/controls",
          "model_name": "DescriptionStyleModel",
          "model_module_version": "1.5.0",
          "state": {
            "_model_module": "@jupyter-widgets/controls",
            "_model_module_version": "1.5.0",
            "_model_name": "DescriptionStyleModel",
            "_view_count": null,
            "_view_module": "@jupyter-widgets/base",
            "_view_module_version": "1.2.0",
            "_view_name": "StyleView",
            "description_width": ""
          }
        }
      }
    }
  },
  "nbformat": 4,
  "nbformat_minor": 0
}