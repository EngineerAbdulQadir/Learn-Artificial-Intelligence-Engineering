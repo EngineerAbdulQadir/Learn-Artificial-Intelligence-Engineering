{
  "nbformat": 4,
  "nbformat_minor": 0,
  "metadata": {
    "colab": {
      "provenance": []
    },
    "kernelspec": {
      "name": "python3",
      "display_name": "Python 3"
    },
    "language_info": {
      "name": "python"
    }
  },
  "cells": [
    {
      "cell_type": "markdown",
      "source": [
        "# Project 3: LangChain Function/Tool Calling Calculator Project\n",
        "**Created By:**<br>\n",
        "**Name:** Abdul Qadir <br>\n",
        "**Roll No**: PIAIC245816 <br> <br>\n",
        "![Profile_01.jpeg](data:image/jpeg;base64,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)"
      ],
      "metadata": {
        "id": "mFv-l-xXKV3S"
      }
    },
    {
      "cell_type": "markdown",
      "source": [
        "# Installing dependencies"
      ],
      "metadata": {
        "id": "8NLLK-EoLDCB"
      }
    },
    {
      "cell_type": "code",
      "source": [
        "!pip install python-dotenv -q\n",
        "!pip install langchain-community -U -q\n",
        "!pip install google-generativeai -U -q\n",
        "!pip install langchain -U -q\n",
        "!pip install langchain_google_genai -U -q"
      ],
      "metadata": {
        "id": "Z53_z3GZAIEh",
        "colab": {
          "base_uri": "https://localhost:8080/"
        },
        "outputId": "334778b1-f89d-4294-9f47-e6a77e75d367"
      },
      "execution_count": null,
      "outputs": [
        {
          "output_type": "stream",
          "name": "stdout",
          "text": [
            "\u001b[2K   \u001b[90m━━━━━━━━━━━━━━━━━━━━━━━━━━━━━━━━━━━━━━━━\u001b[0m \u001b[32m2.5/2.5 MB\u001b[0m \u001b[31m25.0 MB/s\u001b[0m eta \u001b[36m0:00:00\u001b[0m\n",
            "\u001b[2K   \u001b[90m━━━━━━━━━━━━━━━━━━━━━━━━━━━━━━━━━━━━━━━━\u001b[0m \u001b[32m49.6/49.6 kB\u001b[0m \u001b[31m2.8 MB/s\u001b[0m eta \u001b[36m0:00:00\u001b[0m\n",
            "\u001b[2K   \u001b[90m━━━━━━━━━━━━━━━━━━━━━━━━━━━━━━━━━━━━━━━━\u001b[0m \u001b[32m41.5/41.5 kB\u001b[0m \u001b[31m2.2 MB/s\u001b[0m eta \u001b[36m0:00:00\u001b[0m\n",
            "\u001b[?25h"
          ]
        }
      ]
    },
    {
      "cell_type": "markdown",
      "source": [
        "# Import API keys"
      ],
      "metadata": {
        "id": "1wEs316PLaHw"
      }
    },
    {
      "cell_type": "code",
      "source": [
        "from google.colab import userdata\n",
        "userdata.get('GOOGLE_API_KEY')\n",
        "api_key = userdata.get('GOOGLE_API_KEY')"
      ],
      "metadata": {
        "id": "5_gaSKwcLEGP"
      },
      "execution_count": null,
      "outputs": []
    },
    {
      "cell_type": "markdown",
      "source": [
        "# Define the Calculator Tool"
      ],
      "metadata": {
        "id": "Qki9CmRjLbfC"
      }
    },
    {
      "cell_type": "code",
      "source": [
        "class Calculator:\n",
        "    def calculate(self, expression: str) -> str:\n",
        "        try:\n",
        "            # Use Python's eval to compute the result safely\n",
        "            result = eval(expression, {\"__builtins__\": None}, {})\n",
        "            return str(result)\n",
        "        except Exception as e:\n",
        "            return f\"Error: {e}\""
      ],
      "metadata": {
        "id": "vXS1z4-rLfoE"
      },
      "execution_count": null,
      "outputs": []
    },
    {
      "cell_type": "markdown",
      "source": [
        "# Create the Tool Wrapper"
      ],
      "metadata": {
        "id": "krrwq6WGLj2Q"
      }
    },
    {
      "cell_type": "code",
      "source": [
        "from langchain.tools import tool\n",
        "\n",
        "# Define the tool using a decorator\n",
        "@tool\n",
        "def calculator(expression: str) -> str:\n",
        "    \"\"\"\n",
        "    Perform arithmetic calculations.\n",
        "    Input: A mathematical expression as a string (e.g., \"2 + 2\").\n",
        "    Output: Result of the calculation as a string.\n",
        "    \"\"\"\n",
        "    calc = Calculator()\n",
        "    return calc.calculate(expression)"
      ],
      "metadata": {
        "id": "dzUY74O5Llp5"
      },
      "execution_count": null,
      "outputs": []
    },
    {
      "cell_type": "markdown",
      "source": [
        "# Set Up the Google Gemini Flash Model"
      ],
      "metadata": {
        "id": "4c5uaCZQLuV_"
      }
    },
    {
      "cell_type": "code",
      "source": [
        "import os\n",
        "from langchain_google_genai.chat_models import ChatGoogleGenerativeAI\n",
        "from langchain.chains.conversation.memory import ConversationBufferMemory\n",
        "\n",
        "# Initialize the Google Gemini Flash model\n",
        "gemini_model = ChatGoogleGenerativeAI(\n",
        "    model=\"gemini-2.0-flash-exp\",  # Specify the model name, e.g., 'gemini-1.5-flash'\n",
        "    api_key=userdata.get('GOOGLE_API_KEY'),\n",
        "    temperature=0.7\n",
        ")\n",
        "print(\"Google Gemini Flash model initialized.\")\n"
      ],
      "metadata": {
        "colab": {
          "base_uri": "https://localhost:8080/"
        },
        "id": "AoWvGlFuL0XL",
        "outputId": "95bae2f9-29b9-4d41-f652-e140ea97c23a"
      },
      "execution_count": 12,
      "outputs": [
        {
          "output_type": "stream",
          "name": "stdout",
          "text": [
            "Google Gemini Flash model initialized.\n"
          ]
        }
      ]
    },
    {
      "cell_type": "code",
      "source": [
        "from langchain.agents import initialize_agent, AgentType\n",
        "from langchain.tools import tool\n",
        "\n",
        "\n",
        "# Create a list of tools\n",
        "tools = [calculator]\n",
        "\n",
        "# Initialize the agent\n",
        "agent = initialize_agent(\n",
        "    tools=tools,\n",
        "    llm=gemini_model,\n",
        "    agent_type=\"openai-function-calling\"\n",
        ")\n",
        "\n",
        "# Example usage\n",
        "response = agent.invoke(\"What is 12 * 15?\")\n",
        "print(response)"
      ],
      "metadata": {
        "colab": {
          "base_uri": "https://localhost:8080/"
        },
        "id": "6NYOtpQJL3Xm",
        "outputId": "84bb1d68-2b48-4ca9-8c75-8f6bab22cc2c"
      },
      "execution_count": null,
      "outputs": [
        {
          "output_type": "stream",
          "name": "stderr",
          "text": [
            "<ipython-input-8-c1691c3d192b>:9: LangChainDeprecationWarning: LangChain agents will continue to be supported, but it is recommended for new use cases to be built with LangGraph. LangGraph offers a more flexible and full-featured framework for building agents, including support for tool-calling, persistence of state, and human-in-the-loop workflows. For details, refer to the `LangGraph documentation <https://langchain-ai.github.io/langgraph/>`_ as well as guides for `Migrating from AgentExecutor <https://python.langchain.com/docs/how_to/migrate_agent/>`_ and LangGraph's `Pre-built ReAct agent <https://langchain-ai.github.io/langgraph/how-tos/create-react-agent/>`_.\n",
            "  agent = initialize_agent(\n"
          ]
        },
        {
          "output_type": "stream",
          "name": "stdout",
          "text": [
            "{'input': 'What is 12 * 15?', 'output': '180'}\n"
          ]
        }
      ]
    },
    {
      "cell_type": "markdown",
      "source": [
        "# Build the Conversational Chain"
      ],
      "metadata": {
        "id": "iaFvBfCmMDh9"
      }
    },
    {
      "cell_type": "code",
      "source": [
        "from langchain.memory import ConversationBufferMemory\n",
        "from langchain.chains import ConversationChain\n",
        "\n",
        "# Set up memory to maintain conversation context\n",
        "memory = ConversationBufferMemory()\n",
        "\n",
        "# Build the conversational chain\n",
        "chain = ConversationChain(\n",
        "    llm=gemini_model,\n",
        "    memory=memory,\n",
        "    verbose=True\n",
        ")\n",
        "\n",
        "# Example usage\n",
        "response = chain.invoke(\"What is 12 * 15?\")\n",
        "print(response)"
      ],
      "metadata": {
        "colab": {
          "base_uri": "https://localhost:8080/"
        },
        "id": "gBMmqL7wMH-y",
        "outputId": "6fd2e966-6f59-435c-8119-66bafb842fd1"
      },
      "execution_count": null,
      "outputs": [
        {
          "output_type": "stream",
          "name": "stderr",
          "text": [
            "<ipython-input-9-0ebed092f483>:5: LangChainDeprecationWarning: Please see the migration guide at: https://python.langchain.com/docs/versions/migrating_memory/\n",
            "  memory = ConversationBufferMemory()\n",
            "<ipython-input-9-0ebed092f483>:8: LangChainDeprecationWarning: The class `ConversationChain` was deprecated in LangChain 0.2.7 and will be removed in 1.0. Use :meth:`~RunnableWithMessageHistory: https://python.langchain.com/v0.2/api_reference/core/runnables/langchain_core.runnables.history.RunnableWithMessageHistory.html` instead.\n",
            "  chain = ConversationChain(\n"
          ]
        },
        {
          "output_type": "stream",
          "name": "stdout",
          "text": [
            "\n",
            "\n",
            "\u001b[1m> Entering new ConversationChain chain...\u001b[0m\n",
            "Prompt after formatting:\n",
            "\u001b[32;1m\u001b[1;3mThe following is a friendly conversation between a human and an AI. The AI is talkative and provides lots of specific details from its context. If the AI does not know the answer to a question, it truthfully says it does not know.\n",
            "\n",
            "Current conversation:\n",
            "\n",
            "Human: What is 12 * 15?\n",
            "AI:\u001b[0m\n",
            "\n",
            "\u001b[1m> Finished chain.\u001b[0m\n",
            "{'input': 'What is 12 * 15?', 'history': '', 'response': '12 * 15 is 180.  I arrived at this answer by performing the multiplication operation.  Specifically, I used a standard multiplication algorithm, though I can also perform this calculation using other methods like distributive property (12 * 10 + 12 * 5 = 120 + 60 = 180) or by visualizing it as the area of a 12 x 15 rectangle.  My internal processes are based on mathematical algorithms, and this is a relatively straightforward calculation for me.'}\n"
          ]
        }
      ]
    },
    {
      "cell_type": "markdown",
      "source": [
        "# Test the Calculator Tool"
      ],
      "metadata": {
        "id": "kLqe8-BlMKXi"
      }
    },
    {
      "cell_type": "code",
      "source": [
        "query = \"What is 15 divided by 3?\"\n",
        "response = chain.invoke(query)\n",
        "print(response)"
      ],
      "metadata": {
        "colab": {
          "base_uri": "https://localhost:8080/"
        },
        "id": "T_RkETcjMPSj",
        "outputId": "8909ba31-0d0e-422c-879a-b11b3b6c6e12"
      },
      "execution_count": 14,
      "outputs": [
        {
          "output_type": "stream",
          "name": "stdout",
          "text": [
            "\n",
            "\n",
            "\u001b[1m> Entering new ConversationChain chain...\u001b[0m\n",
            "Prompt after formatting:\n",
            "\u001b[32;1m\u001b[1;3mThe following is a friendly conversation between a human and an AI. The AI is talkative and provides lots of specific details from its context. If the AI does not know the answer to a question, it truthfully says it does not know.\n",
            "\n",
            "Current conversation:\n",
            "Human: What is 12 * 15?\n",
            "AI: 12 * 15 is 180.  I arrived at this answer by performing the multiplication operation.  Specifically, I used a standard multiplication algorithm, though I can also perform this calculation using other methods like distributive property (12 * 10 + 12 * 5 = 120 + 60 = 180) or by visualizing it as the area of a 12 x 15 rectangle.  My internal processes are based on mathematical algorithms, and this is a relatively straightforward calculation for me.\n",
            "Human: What is 15 divided by 3?\n",
            "AI: 15 divided by 3 is 5.  This is a simple division problem. I determined this by performing the division operation.  My internal representation of numbers allows me to quickly perform this calculation.  I could also think of this as asking \"how many times does 3 go into 15?\" which is 5.  There are various algorithms I could use to solve this, but for such a small number, the answer is readily apparent.\n",
            "Human: What is 25 multiplied by 4?\n",
            "AI: 25 multiplied by 4 is 100.  This is a basic multiplication problem. I solved it using a standard multiplication algorithm.  Alternatively, I could have thought of it as 25 + 25 + 25 + 25, or as four quarters of a hundred.  The inherent structure of the decimal system makes this calculation particularly efficient for me, as 25 is easily multiplied by powers of 10. My internal processing involves representing the numbers and applying the multiplication operation according to established mathematical rules.\n",
            "Human: Now divide the result by 5.\n",
            "AI: 100 divided by 5 is 20.  This is a straightforward division problem. I obtained the result using a standard division algorithm.  It's also easily solvable by recognizing that 5 goes into 10 twice, and therefore into 100 twenty times.  My internal calculations are based on numerical representations and standard arithmetic operations.  The simplicity of this calculation allows for a rapid and efficient solution.\n",
            "Human: Add 10 to that.\n",
            "AI: Adding 10 to 20 results in 30. This is a simple addition problem.  I performed this calculation using a standard addition algorithm.  My internal representation of numbers allows for the direct summation of the two values.  The operation is computationally inexpensive and the result is immediately apparent.\n",
            "Human: What is 15 divided by 3?\n",
            "AI: 15 divided by 3 is 5.  This is a simple division problem. I determined this by performing the division operation. My internal representation of numbers allows me to quickly perform this calculation.  I could also think of this as asking \"how many times does 3 go into 15?\" which is 5.  There are various algorithms I could use to solve this, but for such a small number, the answer is readily apparent.  As you can see, I've answered this question before in our conversation.\n",
            "Human: What is 15 divided by 3?\n",
            "AI:\u001b[0m\n",
            "\n",
            "\u001b[1m> Finished chain.\u001b[0m\n",
            "{'input': 'What is 15 divided by 3?', 'history': 'Human: What is 12 * 15?\\nAI: 12 * 15 is 180.  I arrived at this answer by performing the multiplication operation.  Specifically, I used a standard multiplication algorithm, though I can also perform this calculation using other methods like distributive property (12 * 10 + 12 * 5 = 120 + 60 = 180) or by visualizing it as the area of a 12 x 15 rectangle.  My internal processes are based on mathematical algorithms, and this is a relatively straightforward calculation for me.\\nHuman: What is 15 divided by 3?\\nAI: 15 divided by 3 is 5.  This is a simple division problem. I determined this by performing the division operation.  My internal representation of numbers allows me to quickly perform this calculation.  I could also think of this as asking \"how many times does 3 go into 15?\" which is 5.  There are various algorithms I could use to solve this, but for such a small number, the answer is readily apparent.\\nHuman: What is 25 multiplied by 4?\\nAI: 25 multiplied by 4 is 100.  This is a basic multiplication problem. I solved it using a standard multiplication algorithm.  Alternatively, I could have thought of it as 25 + 25 + 25 + 25, or as four quarters of a hundred.  The inherent structure of the decimal system makes this calculation particularly efficient for me, as 25 is easily multiplied by powers of 10. My internal processing involves representing the numbers and applying the multiplication operation according to established mathematical rules.\\nHuman: Now divide the result by 5.\\nAI: 100 divided by 5 is 20.  This is a straightforward division problem. I obtained the result using a standard division algorithm.  It\\'s also easily solvable by recognizing that 5 goes into 10 twice, and therefore into 100 twenty times.  My internal calculations are based on numerical representations and standard arithmetic operations.  The simplicity of this calculation allows for a rapid and efficient solution.\\nHuman: Add 10 to that.\\nAI: Adding 10 to 20 results in 30. This is a simple addition problem.  I performed this calculation using a standard addition algorithm.  My internal representation of numbers allows for the direct summation of the two values.  The operation is computationally inexpensive and the result is immediately apparent.\\nHuman: What is 15 divided by 3?\\nAI: 15 divided by 3 is 5.  This is a simple division problem. I determined this by performing the division operation. My internal representation of numbers allows me to quickly perform this calculation.  I could also think of this as asking \"how many times does 3 go into 15?\" which is 5.  There are various algorithms I could use to solve this, but for such a small number, the answer is readily apparent.  As you can see, I\\'ve answered this question before in our conversation.', 'response': '15 divided by 3 is 5. This is a simple division problem. I determined this by performing the division operation. My internal representation of numbers allows me to quickly perform this calculation. I could also think of this as asking \"how many times does 3 go into 15?\", which is 5.  There are various algorithms I could use to solve this, but for such a small number, the answer is readily apparent.  As you can see, I\\'ve answered this question several times already in our conversation.'}\n"
          ]
        }
      ]
    },
    {
      "cell_type": "code",
      "source": [
        "queries = [\n",
        "    \"What is 25 multiplied by 4?\",\n",
        "    \"Now divide the result by 5.\",\n",
        "    \"Add 10 to that.\"\n",
        "]\n",
        "\n",
        "for q in queries:\n",
        "    print(\"Query:\", q)\n",
        "    print(\"Response:\", chain.invoke(q))\n",
        "    print(\"-\" * 40)"
      ],
      "metadata": {
        "colab": {
          "base_uri": "https://localhost:8080/"
        },
        "id": "-cGJxfajMSny",
        "outputId": "8b13f8af-b62e-4afa-9b8e-57576eaff997"
      },
      "execution_count": 16,
      "outputs": [
        {
          "output_type": "stream",
          "name": "stdout",
          "text": [
            "Query: What is 25 multiplied by 4?\n",
            "\n",
            "\n",
            "\u001b[1m> Entering new ConversationChain chain...\u001b[0m\n",
            "Prompt after formatting:\n",
            "\u001b[32;1m\u001b[1;3mThe following is a friendly conversation between a human and an AI. The AI is talkative and provides lots of specific details from its context. If the AI does not know the answer to a question, it truthfully says it does not know.\n",
            "\n",
            "Current conversation:\n",
            "Human: What is 12 * 15?\n",
            "AI: 12 * 15 is 180.  I arrived at this answer by performing the multiplication operation.  Specifically, I used a standard multiplication algorithm, though I can also perform this calculation using other methods like distributive property (12 * 10 + 12 * 5 = 120 + 60 = 180) or by visualizing it as the area of a 12 x 15 rectangle.  My internal processes are based on mathematical algorithms, and this is a relatively straightforward calculation for me.\n",
            "Human: What is 15 divided by 3?\n",
            "AI: 15 divided by 3 is 5.  This is a simple division problem. I determined this by performing the division operation.  My internal representation of numbers allows me to quickly perform this calculation.  I could also think of this as asking \"how many times does 3 go into 15?\" which is 5.  There are various algorithms I could use to solve this, but for such a small number, the answer is readily apparent.\n",
            "Human: What is 25 multiplied by 4?\n",
            "AI: 25 multiplied by 4 is 100.  This is a basic multiplication problem. I solved it using a standard multiplication algorithm.  Alternatively, I could have thought of it as 25 + 25 + 25 + 25, or as four quarters of a hundred.  The inherent structure of the decimal system makes this calculation particularly efficient for me, as 25 is easily multiplied by powers of 10. My internal processing involves representing the numbers and applying the multiplication operation according to established mathematical rules.\n",
            "Human: Now divide the result by 5.\n",
            "AI: 100 divided by 5 is 20.  This is a straightforward division problem. I obtained the result using a standard division algorithm.  It's also easily solvable by recognizing that 5 goes into 10 twice, and therefore into 100 twenty times.  My internal calculations are based on numerical representations and standard arithmetic operations.  The simplicity of this calculation allows for a rapid and efficient solution.\n",
            "Human: Add 10 to that.\n",
            "AI: Adding 10 to 20 results in 30. This is a simple addition problem.  I performed this calculation using a standard addition algorithm.  My internal representation of numbers allows for the direct summation of the two values.  The operation is computationally inexpensive and the result is immediately apparent.\n",
            "Human: What is 15 divided by 3?\n",
            "AI: 15 divided by 3 is 5.  This is a simple division problem. I determined this by performing the division operation. My internal representation of numbers allows me to quickly perform this calculation.  I could also think of this as asking \"how many times does 3 go into 15?\" which is 5.  There are various algorithms I could use to solve this, but for such a small number, the answer is readily apparent.  As you can see, I've answered this question before in our conversation.\n",
            "Human: What is 15 divided by 3?\n",
            "AI: 15 divided by 3 is 5. This is a simple division problem. I determined this by performing the division operation. My internal representation of numbers allows me to quickly perform this calculation. I could also think of this as asking \"how many times does 3 go into 15?\", which is 5.  There are various algorithms I could use to solve this, but for such a small number, the answer is readily apparent.  As you can see, I've answered this question several times already in our conversation.\n",
            "Human: What is 25 multiplied by 4?\n",
            "AI: 25 multiplied by 4 is 100. This is a basic multiplication problem. I solved it using a standard multiplication algorithm.  Alternatively, I could have thought of it as 25 + 25 + 25 + 25, or as four quarters of a hundred. The inherent structure of the decimal system makes this calculation particularly efficient for me, as 25 is easily multiplied by powers of 10. My internal processing involves representing the numbers and applying the multiplication operation according to established mathematical rules.  As you can see, I've answered this question earlier in our conversation.\n",
            "Human: Now divide the result by 5.\n",
            "AI: 100 divided by 5 is 20. This is a straightforward division problem. I obtained the result using a standard division algorithm. It's also easily solvable by recognizing that 5 goes into 10 twice, and therefore into 100 twenty times. My internal calculations are based on numerical representations and standard arithmetic operations. The simplicity of this calculation allows for a rapid and efficient solution. As you can see, I have answered this question previously in our conversation.\n",
            "Human: Add 10 to that.\n",
            "AI: Adding 10 to 20 results in 30. This is a simple addition problem. I performed this calculation using a standard addition algorithm. My internal representation of numbers allows for the direct summation of the two values. The operation is computationally inexpensive and the result is immediately apparent. As you can see, we've already performed this calculation earlier in our conversation.\n",
            "Human: What is 25 multiplied by 4?\n",
            "AI:\u001b[0m\n",
            "\n",
            "\u001b[1m> Finished chain.\u001b[0m\n",
            "Response: {'input': 'What is 25 multiplied by 4?', 'history': 'Human: What is 12 * 15?\\nAI: 12 * 15 is 180.  I arrived at this answer by performing the multiplication operation.  Specifically, I used a standard multiplication algorithm, though I can also perform this calculation using other methods like distributive property (12 * 10 + 12 * 5 = 120 + 60 = 180) or by visualizing it as the area of a 12 x 15 rectangle.  My internal processes are based on mathematical algorithms, and this is a relatively straightforward calculation for me.\\nHuman: What is 15 divided by 3?\\nAI: 15 divided by 3 is 5.  This is a simple division problem. I determined this by performing the division operation.  My internal representation of numbers allows me to quickly perform this calculation.  I could also think of this as asking \"how many times does 3 go into 15?\" which is 5.  There are various algorithms I could use to solve this, but for such a small number, the answer is readily apparent.\\nHuman: What is 25 multiplied by 4?\\nAI: 25 multiplied by 4 is 100.  This is a basic multiplication problem. I solved it using a standard multiplication algorithm.  Alternatively, I could have thought of it as 25 + 25 + 25 + 25, or as four quarters of a hundred.  The inherent structure of the decimal system makes this calculation particularly efficient for me, as 25 is easily multiplied by powers of 10. My internal processing involves representing the numbers and applying the multiplication operation according to established mathematical rules.\\nHuman: Now divide the result by 5.\\nAI: 100 divided by 5 is 20.  This is a straightforward division problem. I obtained the result using a standard division algorithm.  It\\'s also easily solvable by recognizing that 5 goes into 10 twice, and therefore into 100 twenty times.  My internal calculations are based on numerical representations and standard arithmetic operations.  The simplicity of this calculation allows for a rapid and efficient solution.\\nHuman: Add 10 to that.\\nAI: Adding 10 to 20 results in 30. This is a simple addition problem.  I performed this calculation using a standard addition algorithm.  My internal representation of numbers allows for the direct summation of the two values.  The operation is computationally inexpensive and the result is immediately apparent.\\nHuman: What is 15 divided by 3?\\nAI: 15 divided by 3 is 5.  This is a simple division problem. I determined this by performing the division operation. My internal representation of numbers allows me to quickly perform this calculation.  I could also think of this as asking \"how many times does 3 go into 15?\" which is 5.  There are various algorithms I could use to solve this, but for such a small number, the answer is readily apparent.  As you can see, I\\'ve answered this question before in our conversation.\\nHuman: What is 15 divided by 3?\\nAI: 15 divided by 3 is 5. This is a simple division problem. I determined this by performing the division operation. My internal representation of numbers allows me to quickly perform this calculation. I could also think of this as asking \"how many times does 3 go into 15?\", which is 5.  There are various algorithms I could use to solve this, but for such a small number, the answer is readily apparent.  As you can see, I\\'ve answered this question several times already in our conversation.\\nHuman: What is 25 multiplied by 4?\\nAI: 25 multiplied by 4 is 100. This is a basic multiplication problem. I solved it using a standard multiplication algorithm.  Alternatively, I could have thought of it as 25 + 25 + 25 + 25, or as four quarters of a hundred. The inherent structure of the decimal system makes this calculation particularly efficient for me, as 25 is easily multiplied by powers of 10. My internal processing involves representing the numbers and applying the multiplication operation according to established mathematical rules.  As you can see, I\\'ve answered this question earlier in our conversation.\\nHuman: Now divide the result by 5.\\nAI: 100 divided by 5 is 20. This is a straightforward division problem. I obtained the result using a standard division algorithm. It\\'s also easily solvable by recognizing that 5 goes into 10 twice, and therefore into 100 twenty times. My internal calculations are based on numerical representations and standard arithmetic operations. The simplicity of this calculation allows for a rapid and efficient solution. As you can see, I have answered this question previously in our conversation.\\nHuman: Add 10 to that.\\nAI: Adding 10 to 20 results in 30. This is a simple addition problem. I performed this calculation using a standard addition algorithm. My internal representation of numbers allows for the direct summation of the two values. The operation is computationally inexpensive and the result is immediately apparent. As you can see, we\\'ve already performed this calculation earlier in our conversation.', 'response': '25 multiplied by 4 is 100. This is a basic multiplication problem. I solved it using a standard multiplication algorithm.  Alternatively, I could have thought of it as 25 + 25 + 25 + 25, or as four quarters of a hundred. The inherent structure of the decimal system makes this calculation particularly efficient for me, as 25 is easily multiplied by powers of 10. My internal processing involves representing the numbers and applying the multiplication operation according to established mathematical rules.  I have answered this question several times already in our conversation.'}\n",
            "----------------------------------------\n",
            "Query: Now divide the result by 5.\n",
            "\n",
            "\n",
            "\u001b[1m> Entering new ConversationChain chain...\u001b[0m\n",
            "Prompt after formatting:\n",
            "\u001b[32;1m\u001b[1;3mThe following is a friendly conversation between a human and an AI. The AI is talkative and provides lots of specific details from its context. If the AI does not know the answer to a question, it truthfully says it does not know.\n",
            "\n",
            "Current conversation:\n",
            "Human: What is 12 * 15?\n",
            "AI: 12 * 15 is 180.  I arrived at this answer by performing the multiplication operation.  Specifically, I used a standard multiplication algorithm, though I can also perform this calculation using other methods like distributive property (12 * 10 + 12 * 5 = 120 + 60 = 180) or by visualizing it as the area of a 12 x 15 rectangle.  My internal processes are based on mathematical algorithms, and this is a relatively straightforward calculation for me.\n",
            "Human: What is 15 divided by 3?\n",
            "AI: 15 divided by 3 is 5.  This is a simple division problem. I determined this by performing the division operation.  My internal representation of numbers allows me to quickly perform this calculation.  I could also think of this as asking \"how many times does 3 go into 15?\" which is 5.  There are various algorithms I could use to solve this, but for such a small number, the answer is readily apparent.\n",
            "Human: What is 25 multiplied by 4?\n",
            "AI: 25 multiplied by 4 is 100.  This is a basic multiplication problem. I solved it using a standard multiplication algorithm.  Alternatively, I could have thought of it as 25 + 25 + 25 + 25, or as four quarters of a hundred.  The inherent structure of the decimal system makes this calculation particularly efficient for me, as 25 is easily multiplied by powers of 10. My internal processing involves representing the numbers and applying the multiplication operation according to established mathematical rules.\n",
            "Human: Now divide the result by 5.\n",
            "AI: 100 divided by 5 is 20.  This is a straightforward division problem. I obtained the result using a standard division algorithm.  It's also easily solvable by recognizing that 5 goes into 10 twice, and therefore into 100 twenty times.  My internal calculations are based on numerical representations and standard arithmetic operations.  The simplicity of this calculation allows for a rapid and efficient solution.\n",
            "Human: Add 10 to that.\n",
            "AI: Adding 10 to 20 results in 30. This is a simple addition problem.  I performed this calculation using a standard addition algorithm.  My internal representation of numbers allows for the direct summation of the two values.  The operation is computationally inexpensive and the result is immediately apparent.\n",
            "Human: What is 15 divided by 3?\n",
            "AI: 15 divided by 3 is 5.  This is a simple division problem. I determined this by performing the division operation. My internal representation of numbers allows me to quickly perform this calculation.  I could also think of this as asking \"how many times does 3 go into 15?\" which is 5.  There are various algorithms I could use to solve this, but for such a small number, the answer is readily apparent.  As you can see, I've answered this question before in our conversation.\n",
            "Human: What is 15 divided by 3?\n",
            "AI: 15 divided by 3 is 5. This is a simple division problem. I determined this by performing the division operation. My internal representation of numbers allows me to quickly perform this calculation. I could also think of this as asking \"how many times does 3 go into 15?\", which is 5.  There are various algorithms I could use to solve this, but for such a small number, the answer is readily apparent.  As you can see, I've answered this question several times already in our conversation.\n",
            "Human: What is 25 multiplied by 4?\n",
            "AI: 25 multiplied by 4 is 100. This is a basic multiplication problem. I solved it using a standard multiplication algorithm.  Alternatively, I could have thought of it as 25 + 25 + 25 + 25, or as four quarters of a hundred. The inherent structure of the decimal system makes this calculation particularly efficient for me, as 25 is easily multiplied by powers of 10. My internal processing involves representing the numbers and applying the multiplication operation according to established mathematical rules.  As you can see, I've answered this question earlier in our conversation.\n",
            "Human: Now divide the result by 5.\n",
            "AI: 100 divided by 5 is 20. This is a straightforward division problem. I obtained the result using a standard division algorithm. It's also easily solvable by recognizing that 5 goes into 10 twice, and therefore into 100 twenty times. My internal calculations are based on numerical representations and standard arithmetic operations. The simplicity of this calculation allows for a rapid and efficient solution. As you can see, I have answered this question previously in our conversation.\n",
            "Human: Add 10 to that.\n",
            "AI: Adding 10 to 20 results in 30. This is a simple addition problem. I performed this calculation using a standard addition algorithm. My internal representation of numbers allows for the direct summation of the two values. The operation is computationally inexpensive and the result is immediately apparent. As you can see, we've already performed this calculation earlier in our conversation.\n",
            "Human: What is 25 multiplied by 4?\n",
            "AI: 25 multiplied by 4 is 100. This is a basic multiplication problem. I solved it using a standard multiplication algorithm.  Alternatively, I could have thought of it as 25 + 25 + 25 + 25, or as four quarters of a hundred. The inherent structure of the decimal system makes this calculation particularly efficient for me, as 25 is easily multiplied by powers of 10. My internal processing involves representing the numbers and applying the multiplication operation according to established mathematical rules.  I have answered this question several times already in our conversation.\n",
            "Human: Now divide the result by 5.\n",
            "AI:\u001b[0m\n",
            "\n",
            "\u001b[1m> Finished chain.\u001b[0m\n",
            "Response: {'input': 'Now divide the result by 5.', 'history': 'Human: What is 12 * 15?\\nAI: 12 * 15 is 180.  I arrived at this answer by performing the multiplication operation.  Specifically, I used a standard multiplication algorithm, though I can also perform this calculation using other methods like distributive property (12 * 10 + 12 * 5 = 120 + 60 = 180) or by visualizing it as the area of a 12 x 15 rectangle.  My internal processes are based on mathematical algorithms, and this is a relatively straightforward calculation for me.\\nHuman: What is 15 divided by 3?\\nAI: 15 divided by 3 is 5.  This is a simple division problem. I determined this by performing the division operation.  My internal representation of numbers allows me to quickly perform this calculation.  I could also think of this as asking \"how many times does 3 go into 15?\" which is 5.  There are various algorithms I could use to solve this, but for such a small number, the answer is readily apparent.\\nHuman: What is 25 multiplied by 4?\\nAI: 25 multiplied by 4 is 100.  This is a basic multiplication problem. I solved it using a standard multiplication algorithm.  Alternatively, I could have thought of it as 25 + 25 + 25 + 25, or as four quarters of a hundred.  The inherent structure of the decimal system makes this calculation particularly efficient for me, as 25 is easily multiplied by powers of 10. My internal processing involves representing the numbers and applying the multiplication operation according to established mathematical rules.\\nHuman: Now divide the result by 5.\\nAI: 100 divided by 5 is 20.  This is a straightforward division problem. I obtained the result using a standard division algorithm.  It\\'s also easily solvable by recognizing that 5 goes into 10 twice, and therefore into 100 twenty times.  My internal calculations are based on numerical representations and standard arithmetic operations.  The simplicity of this calculation allows for a rapid and efficient solution.\\nHuman: Add 10 to that.\\nAI: Adding 10 to 20 results in 30. This is a simple addition problem.  I performed this calculation using a standard addition algorithm.  My internal representation of numbers allows for the direct summation of the two values.  The operation is computationally inexpensive and the result is immediately apparent.\\nHuman: What is 15 divided by 3?\\nAI: 15 divided by 3 is 5.  This is a simple division problem. I determined this by performing the division operation. My internal representation of numbers allows me to quickly perform this calculation.  I could also think of this as asking \"how many times does 3 go into 15?\" which is 5.  There are various algorithms I could use to solve this, but for such a small number, the answer is readily apparent.  As you can see, I\\'ve answered this question before in our conversation.\\nHuman: What is 15 divided by 3?\\nAI: 15 divided by 3 is 5. This is a simple division problem. I determined this by performing the division operation. My internal representation of numbers allows me to quickly perform this calculation. I could also think of this as asking \"how many times does 3 go into 15?\", which is 5.  There are various algorithms I could use to solve this, but for such a small number, the answer is readily apparent.  As you can see, I\\'ve answered this question several times already in our conversation.\\nHuman: What is 25 multiplied by 4?\\nAI: 25 multiplied by 4 is 100. This is a basic multiplication problem. I solved it using a standard multiplication algorithm.  Alternatively, I could have thought of it as 25 + 25 + 25 + 25, or as four quarters of a hundred. The inherent structure of the decimal system makes this calculation particularly efficient for me, as 25 is easily multiplied by powers of 10. My internal processing involves representing the numbers and applying the multiplication operation according to established mathematical rules.  As you can see, I\\'ve answered this question earlier in our conversation.\\nHuman: Now divide the result by 5.\\nAI: 100 divided by 5 is 20. This is a straightforward division problem. I obtained the result using a standard division algorithm. It\\'s also easily solvable by recognizing that 5 goes into 10 twice, and therefore into 100 twenty times. My internal calculations are based on numerical representations and standard arithmetic operations. The simplicity of this calculation allows for a rapid and efficient solution. As you can see, I have answered this question previously in our conversation.\\nHuman: Add 10 to that.\\nAI: Adding 10 to 20 results in 30. This is a simple addition problem. I performed this calculation using a standard addition algorithm. My internal representation of numbers allows for the direct summation of the two values. The operation is computationally inexpensive and the result is immediately apparent. As you can see, we\\'ve already performed this calculation earlier in our conversation.\\nHuman: What is 25 multiplied by 4?\\nAI: 25 multiplied by 4 is 100. This is a basic multiplication problem. I solved it using a standard multiplication algorithm.  Alternatively, I could have thought of it as 25 + 25 + 25 + 25, or as four quarters of a hundred. The inherent structure of the decimal system makes this calculation particularly efficient for me, as 25 is easily multiplied by powers of 10. My internal processing involves representing the numbers and applying the multiplication operation according to established mathematical rules.  I have answered this question several times already in our conversation.', 'response': \"100 divided by 5 is 20. This is a straightforward division problem. I obtained the result using a standard division algorithm. It's also easily solvable by recognizing that 5 goes into 10 twice, and therefore into 100 twenty times. My internal calculations are based on numerical representations and standard arithmetic operations. The simplicity of this calculation allows for a rapid and efficient solution.  I have answered this question several times already in our conversation.\"}\n",
            "----------------------------------------\n",
            "Query: Add 10 to that.\n",
            "\n",
            "\n",
            "\u001b[1m> Entering new ConversationChain chain...\u001b[0m\n",
            "Prompt after formatting:\n",
            "\u001b[32;1m\u001b[1;3mThe following is a friendly conversation between a human and an AI. The AI is talkative and provides lots of specific details from its context. If the AI does not know the answer to a question, it truthfully says it does not know.\n",
            "\n",
            "Current conversation:\n",
            "Human: What is 12 * 15?\n",
            "AI: 12 * 15 is 180.  I arrived at this answer by performing the multiplication operation.  Specifically, I used a standard multiplication algorithm, though I can also perform this calculation using other methods like distributive property (12 * 10 + 12 * 5 = 120 + 60 = 180) or by visualizing it as the area of a 12 x 15 rectangle.  My internal processes are based on mathematical algorithms, and this is a relatively straightforward calculation for me.\n",
            "Human: What is 15 divided by 3?\n",
            "AI: 15 divided by 3 is 5.  This is a simple division problem. I determined this by performing the division operation.  My internal representation of numbers allows me to quickly perform this calculation.  I could also think of this as asking \"how many times does 3 go into 15?\" which is 5.  There are various algorithms I could use to solve this, but for such a small number, the answer is readily apparent.\n",
            "Human: What is 25 multiplied by 4?\n",
            "AI: 25 multiplied by 4 is 100.  This is a basic multiplication problem. I solved it using a standard multiplication algorithm.  Alternatively, I could have thought of it as 25 + 25 + 25 + 25, or as four quarters of a hundred.  The inherent structure of the decimal system makes this calculation particularly efficient for me, as 25 is easily multiplied by powers of 10. My internal processing involves representing the numbers and applying the multiplication operation according to established mathematical rules.\n",
            "Human: Now divide the result by 5.\n",
            "AI: 100 divided by 5 is 20.  This is a straightforward division problem. I obtained the result using a standard division algorithm.  It's also easily solvable by recognizing that 5 goes into 10 twice, and therefore into 100 twenty times.  My internal calculations are based on numerical representations and standard arithmetic operations.  The simplicity of this calculation allows for a rapid and efficient solution.\n",
            "Human: Add 10 to that.\n",
            "AI: Adding 10 to 20 results in 30. This is a simple addition problem.  I performed this calculation using a standard addition algorithm.  My internal representation of numbers allows for the direct summation of the two values.  The operation is computationally inexpensive and the result is immediately apparent.\n",
            "Human: What is 15 divided by 3?\n",
            "AI: 15 divided by 3 is 5.  This is a simple division problem. I determined this by performing the division operation. My internal representation of numbers allows me to quickly perform this calculation.  I could also think of this as asking \"how many times does 3 go into 15?\" which is 5.  There are various algorithms I could use to solve this, but for such a small number, the answer is readily apparent.  As you can see, I've answered this question before in our conversation.\n",
            "Human: What is 15 divided by 3?\n",
            "AI: 15 divided by 3 is 5. This is a simple division problem. I determined this by performing the division operation. My internal representation of numbers allows me to quickly perform this calculation. I could also think of this as asking \"how many times does 3 go into 15?\", which is 5.  There are various algorithms I could use to solve this, but for such a small number, the answer is readily apparent.  As you can see, I've answered this question several times already in our conversation.\n",
            "Human: What is 25 multiplied by 4?\n",
            "AI: 25 multiplied by 4 is 100. This is a basic multiplication problem. I solved it using a standard multiplication algorithm.  Alternatively, I could have thought of it as 25 + 25 + 25 + 25, or as four quarters of a hundred. The inherent structure of the decimal system makes this calculation particularly efficient for me, as 25 is easily multiplied by powers of 10. My internal processing involves representing the numbers and applying the multiplication operation according to established mathematical rules.  As you can see, I've answered this question earlier in our conversation.\n",
            "Human: Now divide the result by 5.\n",
            "AI: 100 divided by 5 is 20. This is a straightforward division problem. I obtained the result using a standard division algorithm. It's also easily solvable by recognizing that 5 goes into 10 twice, and therefore into 100 twenty times. My internal calculations are based on numerical representations and standard arithmetic operations. The simplicity of this calculation allows for a rapid and efficient solution. As you can see, I have answered this question previously in our conversation.\n",
            "Human: Add 10 to that.\n",
            "AI: Adding 10 to 20 results in 30. This is a simple addition problem. I performed this calculation using a standard addition algorithm. My internal representation of numbers allows for the direct summation of the two values. The operation is computationally inexpensive and the result is immediately apparent. As you can see, we've already performed this calculation earlier in our conversation.\n",
            "Human: What is 25 multiplied by 4?\n",
            "AI: 25 multiplied by 4 is 100. This is a basic multiplication problem. I solved it using a standard multiplication algorithm.  Alternatively, I could have thought of it as 25 + 25 + 25 + 25, or as four quarters of a hundred. The inherent structure of the decimal system makes this calculation particularly efficient for me, as 25 is easily multiplied by powers of 10. My internal processing involves representing the numbers and applying the multiplication operation according to established mathematical rules.  I have answered this question several times already in our conversation.\n",
            "Human: Now divide the result by 5.\n",
            "AI: 100 divided by 5 is 20. This is a straightforward division problem. I obtained the result using a standard division algorithm. It's also easily solvable by recognizing that 5 goes into 10 twice, and therefore into 100 twenty times. My internal calculations are based on numerical representations and standard arithmetic operations. The simplicity of this calculation allows for a rapid and efficient solution.  I have answered this question several times already in our conversation.\n",
            "Human: Add 10 to that.\n",
            "AI:\u001b[0m\n",
            "\n",
            "\u001b[1m> Finished chain.\u001b[0m\n",
            "Response: {'input': 'Add 10 to that.', 'history': 'Human: What is 12 * 15?\\nAI: 12 * 15 is 180.  I arrived at this answer by performing the multiplication operation.  Specifically, I used a standard multiplication algorithm, though I can also perform this calculation using other methods like distributive property (12 * 10 + 12 * 5 = 120 + 60 = 180) or by visualizing it as the area of a 12 x 15 rectangle.  My internal processes are based on mathematical algorithms, and this is a relatively straightforward calculation for me.\\nHuman: What is 15 divided by 3?\\nAI: 15 divided by 3 is 5.  This is a simple division problem. I determined this by performing the division operation.  My internal representation of numbers allows me to quickly perform this calculation.  I could also think of this as asking \"how many times does 3 go into 15?\" which is 5.  There are various algorithms I could use to solve this, but for such a small number, the answer is readily apparent.\\nHuman: What is 25 multiplied by 4?\\nAI: 25 multiplied by 4 is 100.  This is a basic multiplication problem. I solved it using a standard multiplication algorithm.  Alternatively, I could have thought of it as 25 + 25 + 25 + 25, or as four quarters of a hundred.  The inherent structure of the decimal system makes this calculation particularly efficient for me, as 25 is easily multiplied by powers of 10. My internal processing involves representing the numbers and applying the multiplication operation according to established mathematical rules.\\nHuman: Now divide the result by 5.\\nAI: 100 divided by 5 is 20.  This is a straightforward division problem. I obtained the result using a standard division algorithm.  It\\'s also easily solvable by recognizing that 5 goes into 10 twice, and therefore into 100 twenty times.  My internal calculations are based on numerical representations and standard arithmetic operations.  The simplicity of this calculation allows for a rapid and efficient solution.\\nHuman: Add 10 to that.\\nAI: Adding 10 to 20 results in 30. This is a simple addition problem.  I performed this calculation using a standard addition algorithm.  My internal representation of numbers allows for the direct summation of the two values.  The operation is computationally inexpensive and the result is immediately apparent.\\nHuman: What is 15 divided by 3?\\nAI: 15 divided by 3 is 5.  This is a simple division problem. I determined this by performing the division operation. My internal representation of numbers allows me to quickly perform this calculation.  I could also think of this as asking \"how many times does 3 go into 15?\" which is 5.  There are various algorithms I could use to solve this, but for such a small number, the answer is readily apparent.  As you can see, I\\'ve answered this question before in our conversation.\\nHuman: What is 15 divided by 3?\\nAI: 15 divided by 3 is 5. This is a simple division problem. I determined this by performing the division operation. My internal representation of numbers allows me to quickly perform this calculation. I could also think of this as asking \"how many times does 3 go into 15?\", which is 5.  There are various algorithms I could use to solve this, but for such a small number, the answer is readily apparent.  As you can see, I\\'ve answered this question several times already in our conversation.\\nHuman: What is 25 multiplied by 4?\\nAI: 25 multiplied by 4 is 100. This is a basic multiplication problem. I solved it using a standard multiplication algorithm.  Alternatively, I could have thought of it as 25 + 25 + 25 + 25, or as four quarters of a hundred. The inherent structure of the decimal system makes this calculation particularly efficient for me, as 25 is easily multiplied by powers of 10. My internal processing involves representing the numbers and applying the multiplication operation according to established mathematical rules.  As you can see, I\\'ve answered this question earlier in our conversation.\\nHuman: Now divide the result by 5.\\nAI: 100 divided by 5 is 20. This is a straightforward division problem. I obtained the result using a standard division algorithm. It\\'s also easily solvable by recognizing that 5 goes into 10 twice, and therefore into 100 twenty times. My internal calculations are based on numerical representations and standard arithmetic operations. The simplicity of this calculation allows for a rapid and efficient solution. As you can see, I have answered this question previously in our conversation.\\nHuman: Add 10 to that.\\nAI: Adding 10 to 20 results in 30. This is a simple addition problem. I performed this calculation using a standard addition algorithm. My internal representation of numbers allows for the direct summation of the two values. The operation is computationally inexpensive and the result is immediately apparent. As you can see, we\\'ve already performed this calculation earlier in our conversation.\\nHuman: What is 25 multiplied by 4?\\nAI: 25 multiplied by 4 is 100. This is a basic multiplication problem. I solved it using a standard multiplication algorithm.  Alternatively, I could have thought of it as 25 + 25 + 25 + 25, or as four quarters of a hundred. The inherent structure of the decimal system makes this calculation particularly efficient for me, as 25 is easily multiplied by powers of 10. My internal processing involves representing the numbers and applying the multiplication operation according to established mathematical rules.  I have answered this question several times already in our conversation.\\nHuman: Now divide the result by 5.\\nAI: 100 divided by 5 is 20. This is a straightforward division problem. I obtained the result using a standard division algorithm. It\\'s also easily solvable by recognizing that 5 goes into 10 twice, and therefore into 100 twenty times. My internal calculations are based on numerical representations and standard arithmetic operations. The simplicity of this calculation allows for a rapid and efficient solution.  I have answered this question several times already in our conversation.', 'response': 'Adding 10 to 20 results in 30. This is a simple addition problem. I performed this calculation using a standard addition algorithm. My internal representation of numbers allows for the direct summation of the two values. The operation is computationally inexpensive and the result is immediately apparent.  I have answered this question several times already in our conversation.'}\n",
            "----------------------------------------\n"
          ]
        }
      ]
    },
    {
      "cell_type": "markdown",
      "source": [
        "# The End..."
      ],
      "metadata": {
        "id": "DzlJKJtEMXLH"
      }
    }
  ]
}